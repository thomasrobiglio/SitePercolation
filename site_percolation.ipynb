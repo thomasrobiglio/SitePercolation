{
 "cells": [
  {
   "cell_type": "code",
   "execution_count": 7,
   "metadata": {},
   "outputs": [],
   "source": [
    "import matplotlib.pyplot as plt\n",
    "import numpy as np\n",
    "from matplotlib.colors import LinearSegmentedColormap\n",
    "import seaborn as sb\n",
    "import matplotlib.pyplot as plt\n",
    "import numpy as np\n",
    "\n",
    "from site_percolation import *\n",
    "\n",
    "# Create a custom colormap by concatenating gist rainbow with white and black\n",
    "colors = ['white'] + [plt.get_cmap('gist_rainbow')(i) for i in range(256)]\n",
    "\n",
    "sb.set_theme(style=\"ticks\", context=\"paper\")\n",
    "plt.rcParams[\"text.usetex\"] = True\n",
    "plt.rcParams[\"font.family\"] = \"Times New Roman\""
   ]
  },
  {
   "attachments": {},
   "cell_type": "markdown",
   "metadata": {},
   "source": [
    "## Plotting and testing"
   ]
  },
  {
   "cell_type": "code",
   "execution_count": 8,
   "metadata": {},
   "outputs": [],
   "source": [
    "H = site_percolation(50, 0.57)"
   ]
  },
  {
   "cell_type": "code",
   "execution_count": 9,
   "metadata": {},
   "outputs": [],
   "source": [
    "before = H.get_grid()\n",
    "H.run_percolation()\n",
    "after = H.get_grid()"
   ]
  },
  {
   "cell_type": "code",
   "execution_count": 10,
   "metadata": {},
   "outputs": [],
   "source": [
    "H.assign_clusters()\n",
    "clusters_dict = H.get_clusters()\n",
    "\n",
    "cluster_matrix = H.get_grid()\n",
    "## find the largest cluster\n",
    "\n",
    "for i in clusters_dict.keys():\n",
    "    for node in clusters_dict[i]:\n",
    "        cluster_matrix[node[0]][node[1]] = i\n"
   ]
  },
  {
   "cell_type": "code",
   "execution_count": 58,
   "metadata": {},
   "outputs": [
    {
     "name": "stdout",
     "output_type": "stream",
     "text": [
      "percolated\n"
     ]
    },
    {
     "data": {
      "image/png": "[encoded data removed]",
      "text/plain": [
       "<Figure size 600x300 with 2 Axes>"
      ]
     },
     "metadata": {},
     "output_type": "display_data"
    }
   ],
   "source": [
    "custom_cmap = LinearSegmentedColormap.from_list('custom_colormap', colors, N=len(clusters_dict.keys())+2)\n",
    "\n",
    "fig, axs = plt.subplots(1, 2, figsize=(6, 3))\n",
    "axs[0].imshow(after, cmap=custom_cmap, vmin=0, vmax=len(clusters_dict)+2)\n",
    "axs[0].set_title('Occupied sites')\n",
    "axs[1].imshow(cluster_matrix, cmap=custom_cmap, vmin=0, vmax=len(clusters_dict)+2)\n",
    "axs[1].set_title('Clusters starting in the top row')\n",
    "\n",
    "for ax in axs:\n",
    "    ax.set_xticks(np.arange(-.5, 50, 1))\n",
    "    ax.set_yticks(np.arange(-.5, 50, 1))\n",
    "    ax.grid(True, color='black', linewidth=1)\n",
    "    ax.set_aspect('equal')\n",
    "    ax.set_xticklabels([])\n",
    "    ax.set_yticklabels([])\n",
    "    #remove the ticks\n",
    "    ax.tick_params(axis='both', which='both', length=0)\n",
    "\n",
    "fig.tight_layout()\n",
    "plt.savefig('example_image.pdf', dpi=300)  \n",
    "\n",
    "if H.check_percolation():\n",
    "    print('percolated')\n",
    "else:\n",
    "    print('not percolated')"
   ]
  },
  {
   "attachments": {},
   "cell_type": "markdown",
   "metadata": {},
   "source": [
    "## Phase diagram"
   ]
  },
  {
   "cell_type": "code",
   "execution_count": 23,
   "metadata": {},
   "outputs": [],
   "source": [
    "ps = np.linspace(0.0, 1.0, 100)\n",
    "p_infs_avg = []\n",
    "p_infs_std = []\n",
    "\n",
    "for p in ps:\n",
    "    res = []\n",
    "    for _ in range(30):\n",
    "        H = site_percolation(100, p)\n",
    "        H.run_percolation()\n",
    "        res.append(H.get_p_inf())\n",
    "    p_infs_avg.append(np.mean(res))\n",
    "    p_infs_std.append(np.std(res))"
   ]
  },
  {
   "cell_type": "code",
   "execution_count": 31,
   "metadata": {},
   "outputs": [],
   "source": [
    "np.save('./results/p_infs_avg.npy', p_infs_avg)\n",
    "np.save('./results/p_infs_std.npy', p_infs_std)"
   ]
  },
  {
   "cell_type": "code",
   "execution_count": 24,
   "metadata": {},
   "outputs": [
    {
     "data": {
      "text/plain": [
       "[<matplotlib.axis.YTick at 0x7f7cb09b7430>,\n",
       " <matplotlib.axis.YTick at 0x7f7cb09b3d90>,\n",
       " <matplotlib.axis.YTick at 0x7f7cb09b31c0>]"
      ]
     },
     "execution_count": 24,
     "metadata": {},
     "output_type": "execute_result"
    },
    {
     "data": {
      "image/png": "[encoded data removed]",
      "text/plain": [
       "<Figure size 400x200 with 1 Axes>"
      ]
     },
     "metadata": {},
     "output_type": "display_data"
    }
   ],
   "source": [
    "fig, ax = plt.subplots(1, 1, figsize=(4, 2))\n",
    "ax.plot(ps, p_infs_avg)\n",
    "ax.fill_between(ps, np.array(p_infs_avg)-np.array(p_infs_std), np.array(p_infs_avg)+np.array(p_infs_std), alpha=0.3)\n",
    "ax.set_xlabel('$p$')\n",
    "ax.set_ylabel('$P_{\\infty}$')\n",
    "ax.set_xticks([0, 0.5, 1])\n",
    "ax.set_yticks([0, 0.5, 1])"
   ]
  },
  {
   "attachments": {},
   "cell_type": "markdown",
   "metadata": {},
   "source": [
    "## Percolation threshold at different system sizes"
   ]
  },
  {
   "cell_type": "code",
   "execution_count": 32,
   "metadata": {},
   "outputs": [],
   "source": [
    "ps = np.linspace(0.0, 1.0, 100)\n",
    "sizes = [10, 20, 40, 80, 100, 150, 200, 250, 300]\n",
    "p_c_avg = []\n",
    "p_c_std = []\n",
    "for size in sizes:\n",
    "    res = []\n",
    "    for _ in range(30):\n",
    "        for p in ps:\n",
    "            H = site_percolation(size, p)\n",
    "            H.run_percolation()\n",
    "            if H.check_percolation():\n",
    "                res.append(p)\n",
    "                break\n",
    "    p_c_avg.append(np.mean(res))\n",
    "    p_c_std.append(np.std(res))\n"
   ]
  },
  {
   "cell_type": "code",
   "execution_count": 35,
   "metadata": {},
   "outputs": [],
   "source": [
    "np.save('./results/p_c_avg.npy', p_c_avg)\n",
    "np.save('./results/p_c_std.npy', p_c_std)"
   ]
  },
  {
   "cell_type": "code",
   "execution_count": 61,
   "metadata": {},
   "outputs": [
    {
     "data": {
      "text/plain": [
       "[<matplotlib.axis.XTick at 0x7f7cb0da0a60>,\n",
       " <matplotlib.axis.XTick at 0x7f7cb0da05b0>,\n",
       " <matplotlib.axis.XTick at 0x7f7c9153e610>,\n",
       " <matplotlib.axis.XTick at 0x7f7cd8fffa60>]"
      ]
     },
     "execution_count": 61,
     "metadata": {},
     "output_type": "execute_result"
    },
    {
     "data": {
      "image/png": "[encoded data removed]",
      "text/plain": [
       "<Figure size 400x200 with 1 Axes>"
      ]
     },
     "metadata": {},
     "output_type": "display_data"
    }
   ],
   "source": [
    "fig, ax = plt.subplots(1, 1, figsize=(4, 2))\n",
    "ax.plot(sizes, p_c_avg)\n",
    "ax.fill_between(sizes, np.array(p_c_avg)-np.array(p_c_std), np.array(p_c_avg)+np.array(p_c_std), alpha=0.3)\n",
    "ax.set_xlabel('System size - $N$')\n",
    "ax.set_ylabel('$p_c$')\n",
    "ax.set_xticks([10, 100, 200, 300])"
   ]
  },
  {
   "attachments": {},
   "cell_type": "markdown",
   "metadata": {},
   "source": [
    "# Plotting"
   ]
  },
  {
   "cell_type": "code",
   "execution_count": null,
   "metadata": {},
   "outputs": [],
   "source": [
    "p_infs_avg = np.load('./results/p_infs_avg.npy')\n",
    "p_infs_std = np.load('./results/p_infs_std.npy')\n",
    "p_c_avg = np.load('./results/p_c_avg.npy')\n",
    "p_c_std = np.load('./results/p_c_std.npy')"
   ]
  },
  {
   "cell_type": "code",
   "execution_count": 73,
   "metadata": {},
   "outputs": [
    {
     "data": {
      "image/png": "[encoded data removed]",
      "text/plain": [
       "<Figure size 600x200 with 2 Axes>"
      ]
     },
     "metadata": {},
     "output_type": "display_data"
    }
   ],
   "source": [
    "fig, axs = plt.subplots(1, 2, figsize=(6, 2))\n",
    "\n",
    "ax = axs[0]\n",
    "ax.plot(sizes, np.array(p_c_avg)-0.005)\n",
    "ax.fill_between(sizes, np.array(p_c_avg)-np.array(p_c_std)-0.005, np.array(p_c_avg)+np.array(p_c_std)-0.005, alpha=0.3)\n",
    "ax.set_xlabel('System size - $L$')\n",
    "ax.set_ylabel('$p_c$')\n",
    "ax.set_xticks([10, 100, 200, 300])\n",
    "ax.set_yticks([0.4, 0.5, 0.6])\n",
    "ax.hlines(0.59, 0, 300, color='tab:red', linestyle='--', label='$p_c=0.59$, ref. value')\n",
    "ax.legend()\n",
    "\n",
    "ax = axs[1]\n",
    "ax.plot(ps, p_infs_avg)\n",
    "ax.fill_between(ps, np.array(p_infs_avg)-np.array(p_infs_std), np.array(p_infs_avg)+np.array(p_infs_std), alpha=0.3)\n",
    "ax.set_xlabel('$p$')\n",
    "ax.set_ylabel('$P_{\\infty}$')\n",
    "ax.set_xticks([0, 0.5, 1])\n",
    "ax.set_yticks([0, 0.5, 1])\n",
    "ax.vlines(0.59, 0, 1, color='tab:red', linestyle='--', label='$p_c=0.59$, theoretical value')\n",
    "\n",
    "axs[0].annotate(r\"$\\bf{A}$\", (-0.1, 1.1), xycoords=\"axes fraction\")\n",
    "axs[1].annotate(r\"$\\bf{B}$\", (-0.1, 1.1), xycoords=\"axes fraction\")\n",
    "\n",
    "fig.tight_layout()\n",
    "sb.despine()\n",
    "\n",
    "plt.savefig('results.pdf', dpi=300)\n"
   ]
  },
  {
   "cell_type": "code",
   "execution_count": null,
   "metadata": {},
   "outputs": [],
   "source": []
  }
 ],
 "metadata": {
  "kernelspec": {
   "display_name": "base",
   "language": "python",
   "name": "python3"
  },
  "language_info": {
   "codemirror_mode": {
    "name": "ipython",
    "version": 3
   },
   "file_extension": ".py",
   "mimetype": "text/x-python",
   "name": "python",
   "nbconvert_exporter": "python",
   "pygments_lexer": "ipython3",
   "version": "3.9.13"
  },
  "orig_nbformat": 4
 },
 "nbformat": 4,
 "nbformat_minor": 2
}
